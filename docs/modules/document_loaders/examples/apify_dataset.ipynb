{
 "cells": [
  {
   "attachments": {},
   "cell_type": "markdown",
   "metadata": {},
   "source": [
    "# Apify dataset\n",
    "This covers how to load a dataset from Apify to langchain\n",
    "\n",
    "TODO write docs."
   ]
  }
 ],
 "metadata": {
  "language_info": {
   "name": "python"
  },
  "orig_nbformat": 4
 },
 "nbformat": 4,
 "nbformat_minor": 2
}
