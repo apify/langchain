{
 "cells": [
  {
   "attachments": {},
   "cell_type": "markdown",
   "metadata": {},
   "source": [
    "# Apify dataset\n",
    "This covers how to load a dataset from Apify to langchain.\n",
    "\n",
    "## Prerequsites\n",
    "You need to have an existing dataset on the Apify platform. If you don't, please check out [this notebook](../modules/agents/tools/examples/apify.ipynb) on how to scrape websites with Apify."
   ]
  },
  {
   "attachments": {},
   "cell_type": "markdown",
   "metadata": {},
   "source": [
    "## Basic Usage"
   ]
  },
  {
   "cell_type": "code",
   "execution_count": null,
   "metadata": {},
   "outputs": [],
   "source": [
    "from langchain.document_loaders import ApifyDatasetLoader\n",
    "from langchain.document_loaders.base import Document"
   ]
  },
  {
   "attachments": {},
   "cell_type": "markdown",
   "metadata": {},
   "source": [
    "You need to provide a mapping function for the dataset.\n",
    "\n",
    "For example, if your dataset items have structure like this:\n",
    "```json\n",
    "{\n",
    "    \"url\": \"https://apify.com\",\n",
    "    \"text\": \"Apify is the best web scraping and automation platform.\"\n",
    "}\n",
    "```\n",
    "The mapping function in the code below will convert them to the langchain's `Document` format, and you can use them further with any LLM model (e.g. for question answering)."
   ]
  },
  {
   "cell_type": "code",
   "execution_count": null,
   "metadata": {},
   "outputs": [],
   "source": [
    "loader = ApifyDatasetLoader(\n",
    "    dataset_id=\"your-dataset-id\",\n",
    "    dataset_mapping_function=lambda dataset_item: Document(\n",
    "        page_content=dataset_item[\"text\"], metadata={\"source\": dataset_item[\"url\"]}\n",
    "    ),\n",
    ")"
   ]
  },
  {
   "cell_type": "code",
   "execution_count": null,
   "metadata": {},
   "outputs": [],
   "source": [
    "data = loader.load()"
   ]
  },
  {
   "attachments": {},
   "cell_type": "markdown",
   "metadata": {},
   "source": [
    "## An example with question answering\n",
    "\n",
    "In this example, we use data from a dataset to answer a question."
   ]
  },
  {
   "cell_type": "code",
   "execution_count": null,
   "metadata": {},
   "outputs": [],
   "source": [
    "from langchain.docstore.document import Document\n",
    "from langchain.document_loaders import ApifyDatasetLoader\n",
    "from langchain.indexes import VectorstoreIndexCreator\n",
    "\n",
    "if __name__ == \"__main__\":\n",
    "    loader = ApifyDatasetLoader(\n",
    "        dataset_id=\"your-dataset-id\",\n",
    "        dataset_mapping_function=lambda item: Document(\n",
    "            page_content=item[\"text\"] or \"\", metadata={\"source\": item[\"url\"]}\n",
    "        ),\n",
    "    )\n",
    "\n",
    "    index = VectorstoreIndexCreator().from_loaders([loader])\n",
    "\n",
    "    query = \"What is Apify?\"\n",
    "    result = index.query_with_sources(query)\n",
    "    print(result[\"answer\"])\n",
    "    print(result[\"sources\"])\n"
   ]
  }
 ],
 "metadata": {
  "language_info": {
   "name": "python"
  },
  "orig_nbformat": 4
 },
 "nbformat": 4,
 "nbformat_minor": 2
}
